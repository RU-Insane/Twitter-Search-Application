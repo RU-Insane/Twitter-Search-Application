{
 "cells": [
  {
   "cell_type": "code",
   "execution_count": 1,
   "id": "1734a355",
   "metadata": {},
   "outputs": [],
   "source": [
    "import pandas as pd\n",
    "import numpy as np\n",
    "import ast\n",
    "import decimal\n",
    "import json\n",
    "from datetime import datetime\n",
    "from psycopg2 import connect, sql"
   ]
  },
  {
   "cell_type": "code",
   "execution_count": 2,
   "id": "a49f9a99",
   "metadata": {},
   "outputs": [],
   "source": [
    "pd.set_option('display.max_rows', 3000)"
   ]
  },
  {
   "cell_type": "code",
   "execution_count": 3,
   "id": "db3b691a",
   "metadata": {},
   "outputs": [],
   "source": [
    "# Connect to the PostgreSQL database\n",
    "conn = connect(\n",
    "    host=\"localhost\",\n",
    "    database=\"postgres\",\n",
    "    user=\"postgres\",\n",
    "    password=\"kueen\"\n",
    ")"
   ]
  },
  {
   "cell_type": "code",
   "execution_count": 4,
   "id": "3cf58749",
   "metadata": {},
   "outputs": [],
   "source": [
    "# Open a cursor to perform database operations\n",
    "cur = conn.cursor()"
   ]
  },
  {
   "cell_type": "code",
   "execution_count": 5,
   "id": "01bed301",
   "metadata": {},
   "outputs": [],
   "source": [
    "def create_table(file_path, table_name):\n",
    "\n",
    "    # check if the table exists\n",
    "    cur.execute(\"SELECT EXISTS(SELECT * FROM information_schema.tables WHERE table_name=%s)\", (table_name,))\n",
    "    table_exists = cur.fetchone()[0]\n",
    "\n",
    "    # if the table exists, drop it\n",
    "    if table_exists:\n",
    "        cur.execute(\"DROP TABLE {}\".format(table_name))\n",
    "        conn.commit()\n",
    "        print(\"Table dropped successfully\")\n",
    "    \n",
    "    # open the SQL script file and read the contents\n",
    "    with open(file_path, 'r') as f:\n",
    "        query = f.read()\n",
    "    \n",
    "    # execute the SQL commands in the script file\n",
    "    cur.execute(query)\n",
    "    conn.commit()\n",
    "    print(\"Table created successfully\")"
   ]
  },
  {
   "cell_type": "code",
   "execution_count": 6,
   "id": "6808155c",
   "metadata": {},
   "outputs": [],
   "source": [
    "create_table('../utils/Partitioning.sql', 'twitter_users_partitioned')"
   ]
  },
  {
   "cell_type": "code",
   "execution_count": 7,
   "id": "32c7ae19",
   "metadata": {},
   "outputs": [],
   "source": [
    "# Create an index on the \"name\" column\n",
    "cur.execute(\"CREATE INDEX name_idx_p ON twitter_users_partitioned (name);\")\n",
    "conn.commit()\n",
    "\n",
    "# Create a compound index on the \"followers_count\" and \"verified\" columns\n",
    "cur.execute(\"CREATE INDEX followers_verified_idx_p ON twitter_users_partitioned (followers_count DESC, verified DESC);\")\n",
    "conn.commit()"
   ]
  },
  {
   "cell_type": "code",
   "execution_count": 8,
   "id": "3c19ee3d",
   "metadata": {},
   "outputs": [],
   "source": [
    "users = []"
   ]
  },
  {
   "cell_type": "code",
   "execution_count": 9,
   "id": "8c9350a4",
   "metadata": {},
   "outputs": [],
   "source": [
    "def insert_user_info(tweet):\n",
    "    try:\n",
    "        cur.execute(\"\"\"\n",
    "        INSERT INTO twitter_users_partitioned \n",
    "        (user_id, name, screen_name, date, twitter_join_date, location, description, \n",
    "        verified, followers_count, friends_count, listed_count, favourites_count, language)\n",
    "        VALUES (%s, %s, %s, %s, %s, %s, %s, %s, %s, %s, %s, %s, %s)\n",
    "    \"\"\", (tweet['user']['id'], tweet['user']['name'], tweet['user']['screen_name'], tweet['created_at'], \n",
    "          tweet['user']['created_at'], tweet['user']['location'], tweet['user']['description'], \n",
    "          tweet['user']['verified'], tweet['user']['followers_count'], tweet['user']['friends_count'], \n",
    "          tweet['user']['listed_count'], tweet['user']['favourites_count'], tweet['user']['lang']))\n",
    "        \n",
    "        users.append({'user_id': tweet['user']['id'], \n",
    "                      'name': tweet['user']['name'], \n",
    "                      'screen_name': tweet['user']['screen_name'], \n",
    "                      'date': tweet['created_at'],\n",
    "                      'twitter_join_date': tweet['user']['created_at'], \n",
    "                      'location': tweet['user']['location'], \n",
    "                      'description': tweet['user']['description'], \n",
    "                      'verified': tweet['user']['verified'], \n",
    "                      'followers_count': tweet['user']['followers_count'], \n",
    "                      'friends_count': tweet['user']['friends_count'],\n",
    "                      'listed_count': tweet['user']['listed_count'], \n",
    "                      'favourites_count': tweet['user']['favourites_count'],\n",
    "                      'language': tweet['user']['lang']})\n",
    "\n",
    "    except Exception as e:\n",
    "        print(e)\n",
    "        conn.rollback()"
   ]
  },
  {
   "cell_type": "code",
   "execution_count": 10,
   "id": "65aafe4e",
   "metadata": {},
   "outputs": [],
   "source": [
    "# define the input and output formats\n",
    "input_format = '%a %b %d %H:%M:%S %z %Y'\n",
    "output_format = '%Y-%m-%d %H:%M:%S %Z%z'"
   ]
  },
  {
   "cell_type": "code",
   "execution_count": 11,
   "id": "7d1019c8",
   "metadata": {},
   "outputs": [],
   "source": [
    "def load_data(file_path):\n",
    "    # Load the JSON data from file\n",
    "    with open(file_path, \"r\") as f:\n",
    "        for line in f:\n",
    "            try:\n",
    "                tweet = json.loads(line)\n",
    "                tweet['created_at'] = datetime.strptime(tweet['created_at'], input_format).strftime(output_format)\n",
    "                tweet['user']['created_at'] = datetime.strptime(tweet['user']['created_at'], input_format).strftime(output_format)\n",
    "                # insert user entry into database\n",
    "                insert_user_info(tweet)\n",
    "                # if there is a retweet, get original user from retweet\n",
    "                if (tweet['text'].startswith('RT')):\n",
    "                    original_tweet = tweet[\"retweeted_status\"]\n",
    "                    insert_user_info(original_tweet)\n",
    "            except:\n",
    "                # if there is an error loading the json of the tweet, skip\n",
    "                continue"
   ]
  },
  {
   "cell_type": "code",
   "execution_count": 12,
   "id": "384b406a",
   "metadata": {},
   "outputs": [],
   "source": [
    "load_data(\"../../corona-out-2\")"
   ]
  },
  {
   "cell_type": "code",
   "execution_count": 13,
   "id": "c9e50341",
   "metadata": {},
   "outputs": [],
   "source": [
    "load_data(\"../../corona-out-3\")"
   ]
  },
  {
   "cell_type": "code",
   "execution_count": 14,
   "id": "66d54c13",
   "metadata": {},
   "outputs": [],
   "source": [
    "# create a list to store the row counts\n",
    "row_counts = []\n",
    "\n",
    "# loop through the partitions\n",
    "for i in range(1,5):\n",
    "    # generate the partition name\n",
    "    partition_name = 'twitter_users_partitioned_' + str(i)\n",
    "\n",
    "    # count the rows in the partition\n",
    "    count_query = sql.SQL(\"SELECT COUNT(*) FROM {}\").format(sql.Identifier(partition_name))\n",
    "    cur.execute(count_query)\n",
    "    row_count = cur.fetchone()[0]\n",
    "    row_counts.append(row_count)\n",
    "\n",
    "# print the row counts\n",
    "for i, row_count in enumerate(row_counts):\n",
    "    print(\"Partition {}: {} rows\".format(i, row_count))"
   ]
  },
  {
   "cell_type": "code",
   "execution_count": 15,
   "id": "bc5670c5",
   "metadata": {},
   "outputs": [],
   "source": [
    "conn.commit()\n",
    "cur.close()\n",
    "conn.close()"
   ]
  },
  {
   "cell_type": "code",
   "execution_count": 16,
   "id": "83a91181",
   "metadata": {},
   "outputs": [],
   "source": [
    "# Create a pandas DataFrame from the parsed data\n",
    "df_users = pd.DataFrame(users)"
   ]
  },
  {
   "cell_type": "code",
   "execution_count": 17,
   "id": "b4120b8b",
   "metadata": {},
   "outputs": [],
   "source": [
    "df_users.head()"
   ]
  },
  {
   "cell_type": "code",
   "execution_count": 18,
   "id": "706149f2",
   "metadata": {},
   "outputs": [],
   "source": [
    "df_users['date'] = pd.to_datetime(df_users['date'])"
   ]
  },
  {
   "cell_type": "code",
   "execution_count": 19,
   "id": "28d7e6c3",
   "metadata": {},
   "outputs": [],
   "source": [
    "df_users['twitter_join_date'] = pd.to_datetime(df_users['twitter_join_date'])\n",
    "df_users.groupby(df_users['twitter_join_date'].dt.year)['twitter_join_date'].count()"
   ]
  },
  {
   "cell_type": "code",
   "execution_count": 20,
   "id": "58c6cd8b",
   "metadata": {},
   "outputs": [],
   "source": [
    "df_users.groupby(df_users['date'].dt.hour)['date'].count()"
   ]
  },
  {
   "cell_type": "code",
   "execution_count": 21,
   "id": "0e924d19",
   "metadata": {},
   "outputs": [],
   "source": [
    "df_users.groupby(df_users['date'].dt.year)['date'].count()"
   ]
  },
  {
   "cell_type": "code",
   "execution_count": 22,
   "id": "0a80d942",
   "metadata": {},
   "outputs": [],
   "source": [
    "min_date = df_users['date'].min()\n",
    "max_date = df_users['date'].max()\n",
    "print(min_date)\n",
    "print(max_date)"
   ]
  },
  {
   "cell_type": "code",
   "execution_count": 23,
   "id": "5641c069",
   "metadata": {},
   "outputs": [],
   "source": [
    "dates_2020 = df_users.groupby(pd.Grouper(key='date', freq='M'))['date'].count().loc['2020-01-01':'2020-05-25']\n",
    "dates_2020"
   ]
  },
  {
   "cell_type": "code",
   "execution_count": 24,
   "id": "0c31f350",
   "metadata": {},
   "outputs": [],
   "source": [
    "df_users.to_csv('../data/users.csv', index=False)"
   ]
  },
  {
   "cell_type": "code",
   "execution_count": null,
   "id": "f238b772",
   "metadata": {},
   "outputs": [],
   "source": []
  }
 ],
 "metadata": {
  "kernelspec": {
   "display_name": "Python 3 (ipykernel)",
   "language": "python",
   "name": "python3"
  },
  "language_info": {
   "codemirror_mode": {
    "name": "ipython",
    "version": 3
   },
   "file_extension": ".py",
   "mimetype": "text/x-python",
   "name": "python",
   "nbconvert_exporter": "python",
   "pygments_lexer": "ipython3",
   "version": "3.9.13"
  }
 },
 "nbformat": 4,
 "nbformat_minor": 5
}
