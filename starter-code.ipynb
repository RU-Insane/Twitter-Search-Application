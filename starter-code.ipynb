{
 "cells": [
  {
   "cell_type": "code",
   "execution_count": 1,
   "id": "c0aec948",
   "metadata": {},
   "outputs": [],
   "source": [
    "import json\n",
    "import pandas as pd\n",
    "import ast"
   ]
  },
  {
   "cell_type": "code",
   "execution_count": 2,
   "id": "43fefcfe",
   "metadata": {},
   "outputs": [],
   "source": [
    "# Load the JSON data\n",
    "with open(\"corona-out-3\", \"r\") as f1:\n",
    "    data = []\n",
    "    for line in f1:\n",
    "        try:\n",
    "            item = json.loads(line)\n",
    "            data.append(item)\n",
    "            \n",
    "        except:\n",
    "            # if there is an error loading the json of the tweet, skip\n",
    "            continue"
   ]
  },
  {
   "cell_type": "code",
   "execution_count": 3,
   "id": "beeb9b67",
   "metadata": {},
   "outputs": [],
   "source": [
    "# Parse the relevant fields from each tweet\n",
    "tweets = []\n",
    "for tweet in data:\n",
    "    user = tweet['user']['screen_name']\n",
    "    date = tweet['created_at']\n",
    "    text = tweet['text']\n",
    "    urls = [url['url'] for url in tweet['entities']['urls']]\n",
    "    hashtags = [tag['text'] for tag in tweet['entities']['hashtags']]\n",
    "    mentions = [mention['screen_name'] for mention in tweet['entities']['user_mentions']]\n",
    "    tweets.append({'user': user, 'date': date, 'text': text, 'urls': urls, 'hashtags': hashtags, 'mentions': mentions})\n"
   ]
  },
  {
   "cell_type": "code",
   "execution_count": 4,
   "id": "8084887a",
   "metadata": {},
   "outputs": [],
   "source": [
    "# Create a pandas DataFrame from the parsed data\n",
    "df = pd.DataFrame(tweets)"
   ]
  },
  {
   "cell_type": "code",
   "execution_count": 5,
   "id": "54256d92",
   "metadata": {},
   "outputs": [
    {
     "name": "stdout",
     "output_type": "stream",
     "text": [
      "Total number of tweets: 101916\n",
      "Number of unique users: 80953\n"
     ]
    }
   ],
   "source": [
    "# Print the total number of tweets collected\n",
    "print('Total number of tweets:', len(df))\n",
    "\n",
    "# Print the number of unique users posting tweets\n",
    "print('Number of unique users:', df['user'].nunique())"
   ]
  },
  {
   "cell_type": "code",
   "execution_count": 6,
   "id": "48280e35",
   "metadata": {},
   "outputs": [
    {
     "name": "stdout",
     "output_type": "stream",
     "text": [
      "Top hashtags:\n",
      " Corona                 4582\n",
      "Mattarella             1506\n",
      "25Aprile               1472\n",
      "corona                 1449\n",
      "Covid_19                973\n",
      "AltaredellaPatria       805\n",
      "PideAlmayaDiyeÇıkıp     776\n",
      "COVID19                 764\n",
      "Liberazione             696\n",
      "coronavirus             629\n",
      "Name: hashtags, dtype: int64\n"
     ]
    }
   ],
   "source": [
    "# Identify the top hashtags\n",
    "top_hashtags = df.explode('hashtags')['hashtags'].value_counts().head(10)\n",
    "print('Top hashtags:\\n', top_hashtags)"
   ]
  },
  {
   "cell_type": "code",
   "execution_count": 7,
   "id": "c5395570",
   "metadata": {},
   "outputs": [
    {
     "name": "stdout",
     "output_type": "stream",
     "text": [
      "Most frequent URLs:\n",
      " https://t.co/YPcJXU1uqw    1474\n",
      "https://t.co/fGIsLKzTkm     988\n",
      "https://t.co/YKpVaB5ZMQ     294\n",
      "https://t.co/pZ7OSbu0V1     178\n",
      "https://t.co/WKkHMq5OtK     150\n",
      "https://t.co/VLkciV1L8z     143\n",
      "https://t.co/h8S1NnGQUC     142\n",
      "https://t.co/uuUP7cI73J     134\n",
      "https://t.co/fx17qyhqrX     131\n",
      "https://t.co/n3c9AGDM5m     110\n",
      "Name: urls, dtype: int64\n"
     ]
    }
   ],
   "source": [
    "# Identify the most frequent URLs\n",
    "most_frequent_urls = df.explode('urls')['urls'].value_counts().head(10)\n",
    "print('Most frequent URLs:\\n', most_frequent_urls)"
   ]
  },
  {
   "cell_type": "code",
   "execution_count": 8,
   "id": "dcd2504f",
   "metadata": {},
   "outputs": [
    {
     "name": "stdout",
     "output_type": "stream",
     "text": [
      "Most prolific users:\n",
      " trendy1517        295\n",
      "Kenkendall19      271\n",
      "ELister_social    131\n",
      "Murat58939472      85\n",
      "matomecorona       75\n",
      "CoronaScanner      62\n",
      "BabaMkwe           61\n",
      "EricGavara         52\n",
      "RanveerLawyer      49\n",
      "News__Poster       44\n",
      "Name: user, dtype: int64\n"
     ]
    }
   ],
   "source": [
    "# Identify the most prolific users\n",
    "most_prolific_users = df['user'].value_counts().head(10)\n",
    "print('Most prolific users:\\n', most_prolific_users)"
   ]
  },
  {
   "cell_type": "code",
   "execution_count": 9,
   "id": "d7f16572",
   "metadata": {},
   "outputs": [
    {
     "name": "stdout",
     "output_type": "stream",
     "text": [
      "Basic stats on word counts:\n",
      " count    101916.000000\n",
      "mean         16.951803\n",
      "std           6.089937\n",
      "min           1.000000\n",
      "25%          13.000000\n",
      "50%          18.000000\n",
      "75%          21.000000\n",
      "max          38.000000\n",
      "Name: text, dtype: float64\n"
     ]
    }
   ],
   "source": [
    "# Print basic stats on word counts\n",
    "print('Basic stats on word counts:\\n', df['text'].str.split().apply(len).describe())"
   ]
  },
  {
   "cell_type": "code",
   "execution_count": null,
   "id": "dab3a9d9",
   "metadata": {},
   "outputs": [],
   "source": []
  }
 ],
 "metadata": {
  "kernelspec": {
   "display_name": "Python 3 (ipykernel)",
   "language": "python",
   "name": "python3"
  },
  "language_info": {
   "codemirror_mode": {
    "name": "ipython",
    "version": 3
   },
   "file_extension": ".py",
   "mimetype": "text/x-python",
   "name": "python",
   "nbconvert_exporter": "python",
   "pygments_lexer": "ipython3",
   "version": "3.9.13"
  }
 },
 "nbformat": 4,
 "nbformat_minor": 5
}
