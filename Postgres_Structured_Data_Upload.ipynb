{
 "cells": [
  {
   "cell_type": "code",
   "execution_count": 1,
   "id": "1734a355",
   "metadata": {},
   "outputs": [],
   "source": [
    "import pandas as pd\n",
    "import numpy as np\n",
    "import psycopg2"
   ]
  },
  {
   "cell_type": "code",
   "execution_count": null,
   "id": "d33f3db2",
   "metadata": {},
   "outputs": [],
   "source": [
    "class TwitterDB:\n",
    "    def __init__(self, host, database, user, password):\n",
    "        self.host = host\n",
    "        self.database = database\n",
    "        self.user = user\n",
    "        self.password = password\n",
    "        self.conn = self._connect()\n",
    "\n",
    "    def _connect(self):\n",
    "        try:\n",
    "            conn = psycopg2.connect(\n",
    "                host=self.host,\n",
    "                database=self.database,\n",
    "                user=self.user,\n",
    "                password=self.password\n",
    "            )\n",
    "            self.cur = self.conn.cursor()\n",
    "            print(\"Connection to PostgreSQL database successful\")\n",
    "        except Exception as e:\n",
    "            print(f\"Connection failed. Error: {e}\")\n",
    "    \n",
    "    def disconnect(self):\n",
    "        try:\n",
    "            self.cur.close()\n",
    "            self.close()\n",
    "            print(\"Disconnected from PostgreSQL database\")\n",
    "        except Exception as e:\n",
    "            print(f\"Error: {e}\")\n",
    "\n",
    "    def insert_user(self, user):\n",
    "        try:\n",
    "            query = f\"\"\"INSERT INTO twitter_users (user_id, name, screen_name, date, twitter_join_date, location, description, verified, followers_count, friends_count, listed_count, favourites_count, preferred_language)\n",
    "                    VALUES (%s, %s, %s, %s, %s, %s, %s, %s, %s, %s, %s, %s, %s)\n",
    "                    ON CONFLICT (user_id, date) DO NOTHING\"\"\"\n",
    "            data = (\n",
    "                user.user_id, \n",
    "                user.name, \n",
    "                user.screen_name, \n",
    "                user.date, \n",
    "                user.twitter_join_date, \n",
    "                user.location, \n",
    "                user.description, \n",
    "                user.verified, \n",
    "                user.followers_count, \n",
    "                user.friends_count, \n",
    "                user.listed_count, \n",
    "                user.favourites_count, \n",
    "                user.preferred_language\n",
    "            )\n",
    "            self.cur.execute(query, data)\n",
    "            self.conn.commit()\n",
    "        except Exception as e:\n",
    "            self.conn.rollback()\n",
    "            print(f\"Error: {e}\")\n",
    "    \n",
    "    def insert_users(self, users):\n",
    "        for user in users:\n",
    "            self.insert_user(user)\n",
    "    \n",
    "    def get_user(self, user_id):\n",
    "        try:\n",
    "            self.cur.execute(\"SELECT * FROM twitter_users WHERE user_id = %s\", (user_id,))\n",
    "            user_data = self.cur.fetchone()\n",
    "            if user_data:\n",
    "                user = TwitterUser(*user_data)\n",
    "                return user\n",
    "            else:\n",
    "                return None\n",
    "        except Exception as e:\n",
    "            print(f\"Error: {e}\")\n",
    "    \n",
    "    def get_users(self):\n",
    "        try:\n",
    "            self.cur.execute(\"SELECT * FROM twitter_users\")\n",
    "            users_data = self.cur.fetchall()\n",
    "            users = []\n",
    "            for user_data in users_data:\n",
    "                user = TwitterUser(*user_data)\n",
    "                users.append(user)\n",
    "            return users\n",
    "        except Exception as e:\n",
    "            print(f\"Error: {e}\")\n",
    "\n",
    "    def close(self):\n",
    "        self.conn.close()"
   ]
  },
  {
   "cell_type": "code",
   "execution_count": null,
   "id": "e2af16c1",
   "metadata": {},
   "outputs": [],
   "source": [
    "db = TwitterDB(\"localhost\", \"postgres\", \"postgres\", \"\")"
   ]
  },
  {
   "cell_type": "code",
   "execution_count": null,
   "id": "8c87a1d1",
   "metadata": {},
   "outputs": [],
   "source": [
    "df_users = pd.read_csv(\"data/users.csv\")"
   ]
  },
  {
   "cell_type": "code",
   "execution_count": null,
   "id": "cda42422",
   "metadata": {},
   "outputs": [],
   "source": [
    "# Sort dataframe by date column\n",
    "df_users = df_users.sort_values('date')"
   ]
  },
  {
   "cell_type": "code",
   "execution_count": null,
   "id": "c6917657",
   "metadata": {},
   "outputs": [],
   "source": [
    "df_users.head()"
   ]
  },
  {
   "cell_type": "code",
   "execution_count": null,
   "id": "f9951ef6",
   "metadata": {},
   "outputs": [],
   "source": [
    "db.insert_users(df_users)"
   ]
  },
  {
   "cell_type": "code",
   "execution_count": null,
   "id": "f534c46a",
   "metadata": {},
   "outputs": [],
   "source": [
    "db.close()"
   ]
  },
  {
   "cell_type": "code",
   "execution_count": 8,
   "id": "8486e5c2",
   "metadata": {},
   "outputs": [],
   "source": [
    "# Loop through rows of dataframe\n",
    "# for i, row in df_users.iterrows():\n",
    "#     # Check if user already exists in fact table\n",
    "#     cur.execute(\"SELECT * FROM User_table_fact WHERE user = %s\", (row['user'],))\n",
    "#     user_fact = cur.fetchone()\n",
    "    \n",
    "#     # If user exists, update row in fact table\n",
    "#     if user_fact:\n",
    "#         cur.execute(\"UPDATE User_table_fact SET name = %s, screen_name = %s, date = %s, twitter_join_date = %s, location = %s, description = %s, verified = %s, followers_count = %s, friends_count = %s, listed_count = %s, favourites_count = %s, preferred_language = %s WHERE user_id = %s\", (row['name'], row['screen_name'], row['date'], row['twitter_join_date'], row['location'], row['description'], row['verified'], row['followers_count'], row['friends_count'], row['listed_count'], row['favourites_count'], row['preferred_language'], user_fact[0]))\n",
    "#         user_id = user_fact[0]\n",
    "#     # If user does not exist, insert row into fact table\n",
    "#     else:\n",
    "#         cur.execute(\"INSERT INTO User_table_fact (user, name, screen_name, date, twitter_join_date, location, description, verified, followers_count, friends_count, listed_count, favourites_count, preferred_language) VALUES (%s, %s, %s, %s, %s, %s, %s, %s, %s, %s, %s, %s, %s) RETURNING user_id\", (row['user'], row['name'], row['screen_name'], row['date'], row['twitter_join_date'], row['location'], row['description'], row['verified'], row['followers_count'], row['friends_count'], row['listed_count'], row['favourites_count'], row['preferred_language']))\n",
    "#         user_id = cur.fetchone()[0]\n",
    "    \n",
    "#     # Insert row into dim table\n",
    "#     cur.execute(\"INSERT INTO User_table_dim (user_id, date, twitter_join_date, location, description, verified, followers_count, friends_count, listed_count, favourites_count, preferred_language) VALUES (%s, %s, %s, %s, %s, %s, %s, %s"
   ]
  }
 ],
 "metadata": {
  "kernelspec": {
   "display_name": "Python 3 (ipykernel)",
   "language": "python",
   "name": "python3"
  },
  "language_info": {
   "codemirror_mode": {
    "name": "ipython",
    "version": 3
   },
   "file_extension": ".py",
   "mimetype": "text/x-python",
   "name": "python",
   "nbconvert_exporter": "python",
   "pygments_lexer": "ipython3",
   "version": "3.9.13"
  }
 },
 "nbformat": 4,
 "nbformat_minor": 5
}
